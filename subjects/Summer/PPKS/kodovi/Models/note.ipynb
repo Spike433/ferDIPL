{
 "cells": [
  {
   "cell_type": "code",
   "execution_count": 7,
   "metadata": {
    "collapsed": true,
    "pycharm": {
     "name": "#%%\n"
    }
   },
   "outputs": [
    {
     "name": "stdout",
     "output_type": "stream",
     "text": [
      "Sonja\n",
      "Globalni prosjek (prosjecne ocjene predmeta):  5\n",
      "Globalni prosjek (sve ocjene):  5\n",
      "Prosjek matematika:  4\n",
      "Prosjek hrvatski jezik:  5\n",
      "Rang predmeta:  ['hrvatski jezik', 'matematika']\n",
      "\n",
      "\n",
      "Dubravko\n",
      "Globalni prosjek (prosjecne ocjene predmeta):  3.75\n",
      "Globalni prosjek (sve ocjene):  4.0\n",
      "Prosjek matematika:  5.0\n",
      "Prosjek hrvatski jezik:  2.5\n",
      "Rang predmeta:  ['matematika', 'hrvatski jezik']\n",
      "\n",
      "\n",
      "Dario\n",
      "Globalni prosjek (prosjecne ocjene predmeta):  3.666666666666667\n",
      "Globalni prosjek (sve ocjene):  3.4\n",
      "Prosjek matematika:  2.3333333333333335\n",
      "Prosjek hrvatski jezik:  5.0\n",
      "Rang predmeta:  ['hrvatski jezik', 'matematika']\n",
      "[<uc.Ucenik object at 0x000001FAB15A2B20>, <uc.UcenikPlus object at 0x000001FAB15A2C70>, <uc.Ucenik object at 0x000001FAB15A2BE0>]\n",
      "Dubravko B.\n",
      "Sonja G.\n",
      "Dario B.\n"
     ]
    }
   ],
   "source": [
    "from uc import Ucenik\n",
    "from uc import Razred\n",
    "from uc import UcenikPlus\n",
    "\n",
    "\n",
    "\n",
    "sonja = UcenikPlus (\"Sonja G.\")\n",
    "dubravko = Ucenik (\"Dubravko B.\")\n",
    "dario = Ucenik (\"Dario B.\")\n",
    "razred = Razred (\"ZKIST\", [sonja, dario, dubravko])\n",
    "sonja.unesi_ocjenu(5, \"hrvatski jezik\", \"13.4.2023.\")\n",
    "sonja.unesi_ocjenu(5, \"hrvatski jezik\", \"124.4.2023.\")\n",
    "sonja.unesi_ocjenu(4, \"hrvatski jezik\", \"124.4.2023.\")\n",
    "sonja.unesi_ocjenu(4, \"matematika\", \"125.4.2023.\")\n",
    "dubravko.unesi_ocjenu(2, \"hrvatski jezik\", \"122.4.2023.\")\n",
    "dubravko.unesi_ocjenu(3, \"hrvatski jezik\", \"123.4.2023.\")\n",
    "dubravko.unesi_ocjenu(5, \"matematika\", \"122.4.2023.\")\n",
    "dubravko.unesi_ocjenu(5, \"matematika\", \"123.4.2023.\")\n",
    "dubravko.unesi_ocjenu(5, \"matematika\", \"124.4.2023.\")\n",
    "dario.unesi_ocjenu(5, \"hrvatski jezik\", \"1552.4.2023.\")\n",
    "dario.unesi_ocjenu(5, \"hrvatski jezik\", \"1245.4.2023.\")\n",
    "dario.unesi_ocjenu(2, \"matematika\", \"122.4.2023.\")\n",
    "dario.unesi_ocjenu(2, \"matematika\", \"123.4.2023.\")\n",
    "dario.unesi_ocjenu(3, \"matematika\", \"124.4.2023.\")\n",
    "\n",
    "print(\"Sonja\")\n",
    "print(\"Globalni prosjek (prosjecne ocjene predmeta): \", sonja.globalni_prosjek()[0])\n",
    "print(\"Globalni prosjek (sve ocjene): \", sonja.globalni_prosjek()[1])\n",
    "print(\"Prosjek matematika: \", sonja.prosjek_predmet(\"matematika\"))\n",
    "print(\"Prosjek hrvatski jezik: \", sonja.prosjek_predmet(\"hrvatski jezik\"))\n",
    "print(\"Rang predmeta: \", sonja.predmeti_rank())\n",
    "\n",
    "print(\"\\n\\nDubravko\")\n",
    "print(\"Globalni prosjek (prosjecne ocjene predmeta): \", dubravko.globalni_prosjek()[0])\n",
    "print(\"Globalni prosjek (sve ocjene): \", dubravko.globalni_prosjek()[1])\n",
    "print(\"Prosjek matematika: \", dubravko.prosjek_predmet(\"matematika\"))\n",
    "print(\"Prosjek hrvatski jezik: \", dubravko.prosjek_predmet(\"hrvatski jezik\"))\n",
    "print(\"Rang predmeta: \", dubravko.predmeti_rank())\n",
    "\n",
    "print(\"\\n\\nDario\")\n",
    "print(\"Globalni prosjek (prosjecne ocjene predmeta): \", dario.globalni_prosjek()[0])\n",
    "print(\"Globalni prosjek (sve ocjene): \", dario.globalni_prosjek()[1])\n",
    "print(\"Prosjek matematika: \", dario.prosjek_predmet(\"matematika\"))\n",
    "print(\"Prosjek hrvatski jezik: \", dario.prosjek_predmet(\"hrvatski jezik\"))\n",
    "print(\"Rang predmeta: \", dario.predmeti_rank())\n",
    "\n",
    "print(razred.ucenici_rank(\"matematika\"))\n",
    "for r in razred.ucenici_rank(\"matematika\"):\n",
    "    print(r.ime_ucenika)\n",
    "razred.save(\"razred.dat\")\n"
   ]
  },
  {
   "cell_type": "code",
   "execution_count": null,
   "outputs": [],
   "source": [],
   "metadata": {
    "collapsed": false,
    "pycharm": {
     "name": "#%%\n"
    }
   }
  }
 ],
 "metadata": {
  "kernelspec": {
   "display_name": "Python 3",
   "language": "python",
   "name": "python3"
  },
  "language_info": {
   "codemirror_mode": {
    "name": "ipython",
    "version": 2
   },
   "file_extension": ".py",
   "mimetype": "text/x-python",
   "name": "python",
   "nbconvert_exporter": "python",
   "pygments_lexer": "ipython2",
   "version": "2.7.6"
  }
 },
 "nbformat": 4,
 "nbformat_minor": 0
}