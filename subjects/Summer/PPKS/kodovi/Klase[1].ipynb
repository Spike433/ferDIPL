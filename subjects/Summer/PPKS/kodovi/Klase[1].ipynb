{
 "cells": [
  {
   "cell_type": "code",
   "execution_count": 41,
   "metadata": {
    "pycharm": {
     "name": "#%%\n"
    }
   },
   "outputs": [],
   "source": [
    "class Zaposlenik:\n",
    "    brojac = 0\n",
    "    \n",
    "    def __init__(self, ime_i_prezime, placa=None):\n",
    "        self.ime, self.prezime = ime_i_prezime.split()\n",
    "        if placa:\n",
    "            self.placa = placa\n",
    "        Zaposlenik.brojac += 1\n",
    "        \n",
    "    def daj_povisicu(self, postotak):\n",
    "        self.placa = self.placa * (1 + postotak / 100)\n",
    "        \n",
    "    def porez(self):\n",
    "        return 0.24 * self.placa\n",
    "    \n",
    "    def izbroji():\n",
    "        return Zaposlenik.brojac\n",
    "    \n",
    "    def __str__(self):\n",
    "        return f\"Zaposlenik: {self.ime} {self.prezime}, placa: {self.placa}\""
   ]
  },
  {
   "cell_type": "code",
   "execution_count": 44,
   "metadata": {
    "pycharm": {
     "name": "#%%\n"
    }
   },
   "outputs": [
    {
     "name": "stdout",
     "output_type": "stream",
     "text": [
      "2484.0\n"
     ]
    }
   ],
   "source": [
    "ana = Zaposlenik(\"Ana Anic\", 9000)\n",
    "ana.daj_povisicu(15)\n",
    "print(ana.porez())"
   ]
  },
  {
   "cell_type": "code",
   "execution_count": 28,
   "metadata": {
    "pycharm": {
     "name": "#%%\n"
    }
   },
   "outputs": [],
   "source": [
    "pero = Zaposlenik(\"Pero Peric\")"
   ]
  },
  {
   "cell_type": "code",
   "execution_count": 29,
   "metadata": {
    "pycharm": {
     "name": "#%%\n"
    }
   },
   "outputs": [
    {
     "ename": "AttributeError",
     "evalue": "'Zaposlenik' object has no attribute 'placa'",
     "output_type": "error",
     "traceback": [
      "\u001B[0;31m------------------------------------------------------------\u001B[0m",
      "\u001B[0;31mAttributeError\u001B[0m             Traceback (most recent call last)",
      "\u001B[0;32m<ipython-input-29-346512d4c9d1>\u001B[0m in \u001B[0;36m<module>\u001B[0;34m\u001B[0m\n\u001B[0;32m----> 1\u001B[0;31m \u001B[0mpero\u001B[0m\u001B[0;34m.\u001B[0m\u001B[0mdaj_povisicu\u001B[0m\u001B[0;34m(\u001B[0m\u001B[0;36m10\u001B[0m\u001B[0;34m)\u001B[0m\u001B[0;34m\u001B[0m\u001B[0;34m\u001B[0m\u001B[0m\n\u001B[0m",
      "\u001B[0;32m<ipython-input-25-da8ed6671ec6>\u001B[0m in \u001B[0;36mdaj_povisicu\u001B[0;34m(self, postotak)\u001B[0m\n\u001B[1;32m      9\u001B[0m \u001B[0;34m\u001B[0m\u001B[0m\n\u001B[1;32m     10\u001B[0m     \u001B[0;32mdef\u001B[0m \u001B[0mdaj_povisicu\u001B[0m\u001B[0;34m(\u001B[0m\u001B[0mself\u001B[0m\u001B[0;34m,\u001B[0m \u001B[0mpostotak\u001B[0m\u001B[0;34m)\u001B[0m\u001B[0;34m:\u001B[0m\u001B[0;34m\u001B[0m\u001B[0;34m\u001B[0m\u001B[0m\n\u001B[0;32m---> 11\u001B[0;31m         \u001B[0mself\u001B[0m\u001B[0;34m.\u001B[0m\u001B[0mplaca\u001B[0m \u001B[0;34m=\u001B[0m \u001B[0mself\u001B[0m\u001B[0;34m.\u001B[0m\u001B[0mplaca\u001B[0m \u001B[0;34m*\u001B[0m \u001B[0;34m(\u001B[0m\u001B[0;36m1\u001B[0m \u001B[0;34m+\u001B[0m \u001B[0mpostotak\u001B[0m \u001B[0;34m/\u001B[0m \u001B[0;36m100\u001B[0m\u001B[0;34m)\u001B[0m\u001B[0;34m\u001B[0m\u001B[0;34m\u001B[0m\u001B[0m\n\u001B[0m\u001B[1;32m     12\u001B[0m \u001B[0;34m\u001B[0m\u001B[0m\n\u001B[1;32m     13\u001B[0m     \u001B[0;32mdef\u001B[0m \u001B[0mporez\u001B[0m\u001B[0;34m(\u001B[0m\u001B[0mself\u001B[0m\u001B[0;34m)\u001B[0m\u001B[0;34m:\u001B[0m\u001B[0;34m\u001B[0m\u001B[0;34m\u001B[0m\u001B[0m\n",
      "\u001B[0;31mAttributeError\u001B[0m: 'Zaposlenik' object has no attribute 'placa'"
     ]
    }
   ],
   "source": [
    "pero.daj_povisicu(10)"
   ]
  },
  {
   "cell_type": "code",
   "execution_count": 30,
   "metadata": {
    "pycharm": {
     "name": "#%%\n"
    }
   },
   "outputs": [
    {
     "data": {
      "text/plain": [
       "False"
      ]
     },
     "execution_count": 30,
     "metadata": {},
     "output_type": "execute_result"
    }
   ],
   "source": [
    "hasattr(pero, 'placa')"
   ]
  },
  {
   "cell_type": "code",
   "execution_count": 31,
   "metadata": {
    "pycharm": {
     "name": "#%%\n"
    }
   },
   "outputs": [
    {
     "data": {
      "text/plain": [
       "True"
      ]
     },
     "execution_count": 31,
     "metadata": {},
     "output_type": "execute_result"
    }
   ],
   "source": [
    "pero.placa = 7000\n",
    "hasattr(pero, 'placa')"
   ]
  },
  {
   "cell_type": "code",
   "execution_count": 32,
   "metadata": {
    "pycharm": {
     "name": "#%%\n"
    }
   },
   "outputs": [
    {
     "data": {
      "text/plain": [
       "7700.000000000001"
      ]
     },
     "execution_count": 32,
     "metadata": {},
     "output_type": "execute_result"
    }
   ],
   "source": [
    "pero.daj_povisicu(10)\n",
    "pero.placa"
   ]
  },
  {
   "cell_type": "code",
   "execution_count": 33,
   "metadata": {
    "pycharm": {
     "name": "#%%\n"
    }
   },
   "outputs": [
    {
     "data": {
      "text/plain": [
       "2"
      ]
     },
     "execution_count": 33,
     "metadata": {},
     "output_type": "execute_result"
    }
   ],
   "source": [
    "Zaposlenik.izbroji()"
   ]
  },
  {
   "cell_type": "code",
   "execution_count": 27,
   "metadata": {
    "pycharm": {
     "name": "#%%\n"
    }
   },
   "outputs": [
    {
     "data": {
      "text/plain": [
       "2"
      ]
     },
     "execution_count": 27,
     "metadata": {},
     "output_type": "execute_result"
    }
   ],
   "source": [
    "Zaposlenik.brojac"
   ]
  },
  {
   "cell_type": "code",
   "execution_count": 45,
   "metadata": {
    "pycharm": {
     "name": "#%%\n"
    }
   },
   "outputs": [
    {
     "name": "stdout",
     "output_type": "stream",
     "text": [
      "Zaposlenik: Ana Anic, placa: 10350.0\n"
     ]
    }
   ],
   "source": [
    "print(ana)"
   ]
  },
  {
   "cell_type": "code",
   "execution_count": 46,
   "metadata": {
    "pycharm": {
     "name": "#%%\n"
    }
   },
   "outputs": [],
   "source": [
    "class Student(Zaposlenik):\n",
    "    def porez(self):\n",
    "        return 0.10 * self.placa"
   ]
  },
  {
   "cell_type": "code",
   "execution_count": 48,
   "metadata": {
    "pycharm": {
     "name": "#%%\n"
    }
   },
   "outputs": [],
   "source": [
    "branko = Student(\"Branko Brankic\", 7000)\n",
    "branko.daj_povisicu(5)"
   ]
  },
  {
   "cell_type": "code",
   "execution_count": 49,
   "metadata": {
    "pycharm": {
     "name": "#%%\n"
    }
   },
   "outputs": [
    {
     "data": {
      "text/plain": [
       "735.0"
      ]
     },
     "execution_count": 49,
     "metadata": {},
     "output_type": "execute_result"
    }
   ],
   "source": [
    "branko.porez()"
   ]
  },
  {
   "cell_type": "code",
   "execution_count": 50,
   "metadata": {
    "pycharm": {
     "name": "#%%\n"
    }
   },
   "outputs": [],
   "source": [
    "class Poduzece:\n",
    "    def __init__(self, ime, lokacija):\n",
    "        self.ime = ime\n",
    "        self.lokacija = lokacija\n",
    "        self.zaposlenici = []\n",
    "    \n",
    "    def dodaj(self, zap):\n",
    "        self.zaposlenici.append(zap)\n",
    "        \n",
    "    def izbaci(self, zap):\n",
    "        self.zaposlenici.remove(zap)\n",
    "        \n",
    "    def povisi(self, postotak):\n",
    "        for zap in self.zaposlenici:\n",
    "            zap.daj_povisicu(postotak)\n",
    "    \n",
    "    def porez(self):\n",
    "        return sum([zap.porez() for zap in self.zaposlenici])"
   ]
  },
  {
   "cell_type": "code",
   "execution_count": 51,
   "metadata": {
    "pycharm": {
     "name": "#%%\n"
    }
   },
   "outputs": [
    {
     "data": {
      "text/plain": [
       "5573.700000000001"
      ]
     },
     "execution_count": 51,
     "metadata": {},
     "output_type": "execute_result"
    }
   ],
   "source": [
    "p = Poduzece(\"FER\", \"Zagreb\")\n",
    "p.dodaj(pero)\n",
    "p.dodaj(ana)\n",
    "p.dodaj(branko)\n",
    "p.porez()\n",
    "p.povisi(10)\n",
    "p.porez()"
   ]
  },
  {
   "cell_type": "code",
   "execution_count": 52,
   "metadata": {
    "pycharm": {
     "name": "#%%\n"
    }
   },
   "outputs": [],
   "source": [
    "class Zaposlenik2:\n",
    "    def __init__(self, ime_i_prezime, placa):\n",
    "        self.ime, self.prezime = ime_i_prezime.split()\n",
    "        self.__placa = placa"
   ]
  },
  {
   "cell_type": "code",
   "execution_count": 53,
   "metadata": {
    "pycharm": {
     "name": "#%%\n"
    }
   },
   "outputs": [],
   "source": [
    "tmp = Zaposlenik2('Mara Maric', 3535)"
   ]
  },
  {
   "cell_type": "code",
   "execution_count": 54,
   "metadata": {
    "pycharm": {
     "name": "#%%\n"
    }
   },
   "outputs": [
    {
     "ename": "AttributeError",
     "evalue": "'Zaposlenik2' object has no attribute '__placa'",
     "output_type": "error",
     "traceback": [
      "\u001B[0;31m------------------------------------------------------------\u001B[0m",
      "\u001B[0;31mAttributeError\u001B[0m             Traceback (most recent call last)",
      "\u001B[0;32m<ipython-input-54-156103df575e>\u001B[0m in \u001B[0;36m<module>\u001B[0;34m\u001B[0m\n\u001B[0;32m----> 1\u001B[0;31m \u001B[0mtmp\u001B[0m\u001B[0;34m.\u001B[0m\u001B[0m__placa\u001B[0m\u001B[0;34m\u001B[0m\u001B[0;34m\u001B[0m\u001B[0m\n\u001B[0m",
      "\u001B[0;31mAttributeError\u001B[0m: 'Zaposlenik2' object has no attribute '__placa'"
     ]
    }
   ],
   "source": [
    "tmp.__placa"
   ]
  },
  {
   "cell_type": "code",
   "execution_count": null,
   "metadata": {
    "pycharm": {
     "name": "#%%\n"
    }
   },
   "outputs": [],
   "source": []
  }
 ],
 "metadata": {
  "kernelspec": {
   "display_name": "Python 3",
   "language": "python",
   "name": "python3"
  },
  "language_info": {
   "codemirror_mode": {
    "name": "ipython",
    "version": 3
   },
   "file_extension": ".py",
   "mimetype": "text/x-python",
   "name": "python",
   "nbconvert_exporter": "python",
   "pygments_lexer": "ipython3",
   "version": "3.8.10"
  }
 },
 "nbformat": 4,
 "nbformat_minor": 4
}