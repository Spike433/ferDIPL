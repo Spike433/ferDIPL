{
 "cells": [
  {
   "cell_type": "code",
   "execution_count": 12,
   "id": "6a2f2ac2",
   "metadata": {
    "ExecuteTime": {
     "end_time": "2023-11-19T19:42:02.340523900Z",
     "start_time": "2023-11-19T19:42:02.312532200Z"
    }
   },
   "outputs": [],
   "source": [
    "#!pip install matplotlib.pyplot\n",
    "#!pip install networkx\n",
    "#!pip install numpy\n",
    "\n",
    "import networkx as nx\n",
    "import numpy as np\n",
    "import matplotlib.pyplot as plt\n",
    "import random"
   ]
  },
  {
   "cell_type": "markdown",
   "id": "15fa8f0c",
   "metadata": {},
   "source": [
    "# Inicijalizacija mreže"
   ]
  },
  {
   "cell_type": "markdown",
   "id": "1af2c57e",
   "metadata": {},
   "source": [
    "Inicijalizacija neusmjerene mreže"
   ]
  },
  {
   "cell_type": "code",
   "execution_count": 13,
   "id": "1303070c",
   "metadata": {
    "ExecuteTime": {
     "end_time": "2023-11-19T19:42:14.994359600Z",
     "start_time": "2023-11-19T19:42:14.969358600Z"
    }
   },
   "outputs": [],
   "source": [
    "G = nx.Graph()"
   ]
  },
  {
   "cell_type": "markdown",
   "id": "053edf29",
   "metadata": {},
   "source": [
    "Dodavanje čvorova"
   ]
  },
  {
   "cell_type": "code",
   "execution_count": 14,
   "id": "2fbe91b7",
   "metadata": {
    "ExecuteTime": {
     "end_time": "2023-11-19T19:42:21.957967900Z",
     "start_time": "2023-11-19T19:42:21.928715600Z"
    }
   },
   "outputs": [],
   "source": [
    "G.add_node(1)\n",
    "G.add_node(2)\n",
    "G.add_nodes_from([3,4,5])"
   ]
  },
  {
   "cell_type": "markdown",
   "id": "27539c75",
   "metadata": {},
   "source": [
    "Dodavanje veza"
   ]
  },
  {
   "cell_type": "code",
   "execution_count": 15,
   "id": "c4707f4f",
   "metadata": {
    "ExecuteTime": {
     "end_time": "2023-11-19T19:42:26.451247200Z",
     "start_time": "2023-11-19T19:42:26.426249500Z"
    }
   },
   "outputs": [],
   "source": [
    "G.add_edge(1,2)\n",
    "G.add_edges_from([(3,4),(2,4),(4,5),(3,5),(1,5)])"
   ]
  },
  {
   "cell_type": "markdown",
   "id": "9f5eb697",
   "metadata": {},
   "source": [
    "Ili kraće"
   ]
  },
  {
   "cell_type": "code",
   "execution_count": 16,
   "id": "a5d9ffca",
   "metadata": {
    "ExecuteTime": {
     "end_time": "2023-11-19T19:42:31.543246500Z",
     "start_time": "2023-11-19T19:42:31.503237400Z"
    }
   },
   "outputs": [],
   "source": [
    "G_con = nx.Graph([(1,2),(3,4),(2,4),(4,5),(3,5),(1,5)])"
   ]
  },
  {
   "cell_type": "markdown",
   "id": "31b42b0c",
   "metadata": {},
   "source": [
    "Dodavanje i pristupanje atributima čvorova"
   ]
  },
  {
   "cell_type": "code",
   "execution_count": 17,
   "id": "5dcf1088",
   "metadata": {
    "ExecuteTime": {
     "end_time": "2023-11-19T19:42:33.603440100Z",
     "start_time": "2023-11-19T19:42:33.562436300Z"
    }
   },
   "outputs": [
    {
     "name": "stdout",
     "output_type": "stream",
     "text": [
      "{1: 'vrijednost', 2: 'vrijednost', 3: 'vrijednost', 4: 'vrijednost', 5: 'vrijednost'}\n"
     ]
    }
   ],
   "source": [
    "nx.set_node_attributes(G, \"vrijednost\", \"atribut\")\n",
    "print(nx.get_node_attributes(G, \"atribut\"))"
   ]
  },
  {
   "cell_type": "markdown",
   "id": "67759c8c",
   "metadata": {},
   "source": [
    "Pristupanje i dodavanje atributa pojedinom čvoru"
   ]
  },
  {
   "cell_type": "code",
   "execution_count": null,
   "id": "b3ce7192",
   "metadata": {},
   "outputs": [],
   "source": [
    "G.nodes[1][\"atribut\"] = \"nova vrijednost\"\n",
    "G.nodes[2][\"atribut 2\"] = \"druga vrijednost\""
   ]
  },
  {
   "cell_type": "markdown",
   "id": "10c945a3",
   "metadata": {},
   "source": [
    "Dodavanje atributa čvora rječnikom rječnika"
   ]
  },
  {
   "cell_type": "code",
   "execution_count": null,
   "id": "baf0aeec",
   "metadata": {},
   "outputs": [],
   "source": [
    "node_attributes_dictionary = {1 : {\"Atribut 1\" : \"Vrijednost 11\"},\n",
    "                         2 : {\"Atribut 1\" : \"Vrijednost 12\", \"Atribut 2\" : \"Vrijednost 22\"},\n",
    "                         3 : {\"Atribut 2\" : \"Vrijednost 23\", \"Atribut 1\" : \"Vrijednost 13\"},\n",
    "                         4 : {\"Atribut 3\" : \"Vrijednost 34\"}}\n",
    "\n",
    "nx.set_node_attributes(G, node_attributes_dictionary)\n",
    "print(nx.get_node_attributes(G, \"Atribut 1\"))"
   ]
  },
  {
   "cell_type": "markdown",
   "id": "95e849b4",
   "metadata": {},
   "source": [
    "Dodavanje i pristupanje atributima vezama"
   ]
  },
  {
   "cell_type": "code",
   "execution_count": null,
   "id": "43eeaad3",
   "metadata": {},
   "outputs": [],
   "source": [
    "nx.set_edge_attributes(G, \"vrijednost\", \"atribut\")\n",
    "print(nx.get_edge_attributes(G, \"atribut\"))"
   ]
  },
  {
   "cell_type": "markdown",
   "id": "b4c56979",
   "metadata": {},
   "source": [
    "Pristupanje i dodavanje atributa pojedinoj vezi"
   ]
  },
  {
   "cell_type": "code",
   "execution_count": null,
   "id": "572271a5",
   "metadata": {},
   "outputs": [],
   "source": [
    "G.edges[(1,2)][\"atribut\"] = \"nova vrijednost\""
   ]
  },
  {
   "cell_type": "markdown",
   "id": "f9fc6788",
   "metadata": {},
   "source": [
    "Dodavanje atributa veza rječnikom rječnika"
   ]
  },
  {
   "cell_type": "code",
   "execution_count": null,
   "id": "7ba7174d",
   "metadata": {},
   "outputs": [],
   "source": [
    "edge_attributes_dictionary = {(1,2) : {\"Atribut 1\" : \"Vrijednost 112\"},\n",
    "                         (2,4) : {\"Atribut 1\" : \"Vrijednost 122\", \"Atribut 2\" : \"Vrijednost 222\"},\n",
    "                         (4,5) : {\"Atribut 2\" : \"Vrijednost 245\", \"Atribut 1\" : \"Vrijednost 145\"},\n",
    "                         (3,5) : {\"Atribut 3\" : \"Vrijednost 335\"}}\n",
    "\n",
    "nx.set_edge_attributes(G, edge_attributes_dictionary)\n",
    "print(nx.get_edge_attributes(G, \"Atribut 1\"))"
   ]
  },
  {
   "cell_type": "markdown",
   "id": "3bfc7305",
   "metadata": {},
   "source": [
    "Crtanje mreže"
   ]
  },
  {
   "cell_type": "code",
   "execution_count": null,
   "id": "65c71532",
   "metadata": {},
   "outputs": [],
   "source": [
    "plt.title('Mreža G')\n",
    "nx.draw_networkx(G)"
   ]
  },
  {
   "cell_type": "markdown",
   "id": "26a35c89",
   "metadata": {},
   "source": [
    "Podešavanje parametara crtanja"
   ]
  },
  {
   "cell_type": "code",
   "execution_count": null,
   "id": "39861438",
   "metadata": {},
   "outputs": [],
   "source": [
    "pos = nx.spring_layout(G_con, k = 0.1, seed = 7)\n",
    "node_labels = nx.get_node_attributes(G, 'atribut')"
   ]
  },
  {
   "cell_type": "code",
   "execution_count": null,
   "id": "8e924b0a",
   "metadata": {},
   "outputs": [],
   "source": [
    "plt.title('Mreža G_con')\n",
    "nx.draw_networkx(G_con, labels = node_labels, pos = pos)"
   ]
  },
  {
   "cell_type": "markdown",
   "id": "6f87066c",
   "metadata": {},
   "source": [
    "Inicijalizacija usmjerene mreže"
   ]
  },
  {
   "cell_type": "code",
   "execution_count": null,
   "id": "34cae798",
   "metadata": {},
   "outputs": [],
   "source": [
    "D = nx.DiGraph([(1,2),(2,1),(4,3),(2,4),(4,5),(3,5),(1,5)])\n",
    "\n",
    "plt.title('Usmjerena mreža')\n",
    "nx.draw_networkx(D)"
   ]
  },
  {
   "cell_type": "markdown",
   "id": "c9f89453",
   "metadata": {},
   "source": [
    "Bipartitna mreža"
   ]
  },
  {
   "cell_type": "code",
   "execution_count": null,
   "id": "9188570d",
   "metadata": {},
   "outputs": [],
   "source": [
    "B = nx.complete_bipartite_graph(4,5)\n",
    "\n",
    "plt.title('Bipartitna mreža')\n",
    "nx.draw_networkx(B)"
   ]
  },
  {
   "cell_type": "markdown",
   "id": "8e2f078b",
   "metadata": {},
   "source": [
    "Ciklička mreža"
   ]
  },
  {
   "cell_type": "code",
   "execution_count": null,
   "id": "bfefba6b",
   "metadata": {},
   "outputs": [],
   "source": [
    "C = nx.cycle_graph(4)\n",
    "\n",
    "plt.title('Ciklička mreža')\n",
    "nx.draw_networkx(C)"
   ]
  },
  {
   "cell_type": "markdown",
   "id": "fe38fdbd",
   "metadata": {},
   "source": [
    "Lanac"
   ]
  },
  {
   "cell_type": "code",
   "execution_count": null,
   "id": "fa416af5",
   "metadata": {},
   "outputs": [],
   "source": [
    "P = nx.path_graph(5)\n",
    "\n",
    "plt.title('Lanac')\n",
    "nx.draw_networkx(P)"
   ]
  },
  {
   "cell_type": "markdown",
   "id": "234cc1ac",
   "metadata": {},
   "source": [
    "Zvijezda"
   ]
  },
  {
   "cell_type": "code",
   "execution_count": null,
   "id": "f8baf779",
   "metadata": {},
   "outputs": [],
   "source": [
    "S = nx.star_graph(6)\n",
    "\n",
    "plt.title('Zvijezda')\n",
    "nx.draw_networkx(S)"
   ]
  },
  {
   "cell_type": "markdown",
   "id": "3d78816e",
   "metadata": {},
   "source": [
    "Stablo"
   ]
  },
  {
   "cell_type": "code",
   "execution_count": null,
   "id": "93250697",
   "metadata": {},
   "outputs": [],
   "source": [
    "T = nx.generators.balanced_tree(2, h = 3)\n",
    "\n",
    "plt.title('Stablo')\n",
    "nx.draw_networkx(T)"
   ]
  },
  {
   "cell_type": "markdown",
   "id": "8cfa6275",
   "metadata": {},
   "source": [
    "Inicijalizacija mreže s težinama"
   ]
  },
  {
   "cell_type": "code",
   "execution_count": null,
   "id": "9a052b92",
   "metadata": {},
   "outputs": [],
   "source": [
    "D_w = nx.DiGraph()\n",
    "D_w.add_weighted_edges_from([(1,2,3),(2,1,4),(4,3,1),(2,4,2),(4,5,2),(3,5,6),(1,5,1)])"
   ]
  },
  {
   "cell_type": "markdown",
   "id": "d8a90d28",
   "metadata": {},
   "source": [
    "Crtanje mreže s težinama"
   ]
  },
  {
   "cell_type": "code",
   "execution_count": null,
   "id": "7d93f862",
   "metadata": {},
   "outputs": [],
   "source": [
    "pos = nx.spring_layout(D_w, seed=7)\n",
    "labels = nx.get_edge_attributes(D_w,'weight')\n",
    "\n",
    "plt.title('Mreža D_w')\n",
    "nx.draw_networkx(D_w,pos)\n",
    "nx.draw_networkx_edge_labels(D_w, pos = pos, edge_labels = labels)"
   ]
  },
  {
   "cell_type": "markdown",
   "id": "e746a1f2",
   "metadata": {},
   "source": [
    "Prolazak po čvorovima i vezama"
   ]
  },
  {
   "cell_type": "code",
   "execution_count": null,
   "id": "41e7c439",
   "metadata": {},
   "outputs": [],
   "source": [
    "print(D_w.number_of_nodes())\n",
    "print(D_w.number_of_edges())"
   ]
  },
  {
   "cell_type": "code",
   "execution_count": null,
   "id": "28a552b6",
   "metadata": {},
   "outputs": [],
   "source": [
    "print(D_w.nodes())\n",
    "print(D_w.edges())"
   ]
  },
  {
   "cell_type": "code",
   "execution_count": null,
   "id": "843c1b7c",
   "metadata": {},
   "outputs": [],
   "source": [
    "for node in D_w.neighbors(4):\n",
    "    print(node)"
   ]
  },
  {
   "cell_type": "code",
   "execution_count": null,
   "id": "92598bb9",
   "metadata": {},
   "outputs": [],
   "source": [
    "for node in D_w.predecessors(4):\n",
    "    print(node)"
   ]
  },
  {
   "cell_type": "code",
   "execution_count": null,
   "id": "6970bd95",
   "metadata": {},
   "outputs": [],
   "source": [
    "for node in D_w.successors(4):\n",
    "    print(node)"
   ]
  },
  {
   "cell_type": "markdown",
   "id": "1522682a",
   "metadata": {},
   "source": [
    "Podmreže"
   ]
  },
  {
   "cell_type": "code",
   "execution_count": null,
   "id": "497e1001",
   "metadata": {},
   "outputs": [],
   "source": [
    "D_w_subgraph = nx.subgraph(D_w, (3,4,5))\n",
    "D_w_subgraph_V2 = D_w.subgraph((3,4,5))"
   ]
  },
  {
   "cell_type": "code",
   "execution_count": null,
   "id": "2aa6f18e",
   "metadata": {},
   "outputs": [],
   "source": [
    "plt.subplot(131)\n",
    "plt.title('Cijela mreža')\n",
    "pos = nx.spring_layout(D_w, seed = 7)\n",
    "labels = nx.get_edge_attributes(D_w, 'weight')\n",
    "nx.draw_networkx(D_w, pos)\n",
    "nx.draw_networkx_edge_labels(D_w, pos, labels)\n",
    "\n",
    "plt.subplot(132)\n",
    "plt.title('Podmreža')\n",
    "pos = nx.spring_layout(D_w_subgraph, seed = 7)\n",
    "labels = nx.get_edge_attributes(D_w_subgraph, 'weight')\n",
    "nx.draw_networkx(D_w_subgraph, pos)\n",
    "nx.draw_networkx_edge_labels(D_w_subgraph, pos, labels)\n",
    "\n",
    "plt.subplot(133)\n",
    "plt.title('Podmreža V2')\n",
    "pos = nx.spring_layout(D_w_subgraph_V2, seed = 7)\n",
    "labels = nx.get_edge_attributes(D_w_subgraph_V2, 'weight')\n",
    "nx.draw_networkx(D_w_subgraph_V2, pos)\n",
    "nx.draw_networkx_edge_labels(D_w_subgraph_V2, pos, labels)"
   ]
  },
  {
   "cell_type": "markdown",
   "id": "e507758d",
   "metadata": {},
   "source": [
    "Klike"
   ]
  },
  {
   "cell_type": "code",
   "execution_count": null,
   "id": "07e258cf",
   "metadata": {},
   "outputs": [],
   "source": [
    "G_clique_example = nx.Graph([(1,2),(1,3),(2,3),(3,4),(4,5),(4,6),(5,6)])\n",
    "\n",
    "plt.title('Mreža G_clique_example')\n",
    "nx.draw_networkx(G_clique_example, pos = nx.spring_layout(G_clique_example, seed = 7))"
   ]
  },
  {
   "cell_type": "code",
   "execution_count": null,
   "id": "af9ae890",
   "metadata": {},
   "outputs": [],
   "source": [
    "G_cliques = nx.find_cliques(G_clique_example)\n",
    "\n",
    "\n",
    "clique_n = 0\n",
    "clique_colors = ['red', 'green']\n",
    "for clique in G_cliques:\n",
    "    print(clique)\n",
    "    if len(clique) > 2:\n",
    "        nx.set_node_attributes(G_clique_example.subgraph(clique), clique_colors[clique_n], \"color\")\n",
    "        clique_n+=1\n",
    "        \n",
    "plt.title('Klike s više od 2 člana')\n",
    "nx.draw_networkx(G_clique_example,  node_color = list(nx.get_node_attributes(G_clique_example, \"color\").values()), pos = nx.spring_layout(G_clique_example, seed = 7))"
   ]
  },
  {
   "cell_type": "markdown",
   "id": "3eed53d2",
   "metadata": {},
   "source": [
    "Gustoća"
   ]
  },
  {
   "cell_type": "code",
   "execution_count": null,
   "id": "1443d628",
   "metadata": {},
   "outputs": [],
   "source": [
    "print(f\"Gustoća mreže G : {nx.density(G)}\")\n",
    "print(f\"Gustoća mreže D_w : {nx.density(D_w)}\")"
   ]
  },
  {
   "cell_type": "markdown",
   "id": "74b001e2",
   "metadata": {},
   "source": [
    "Stupanj čvora"
   ]
  },
  {
   "cell_type": "code",
   "execution_count": null,
   "id": "13901d23",
   "metadata": {},
   "outputs": [],
   "source": [
    "print(f\"Stupanj čvora 4 mreže G : {G.degree(4)}\")\n",
    "print(f\"Stupnjevi svih čvorova mreže G : {G.degree()}\")\n",
    "\n",
    "G_nodes_degrees = G.degree()\n",
    "nx.set_node_attributes(G, dict(G_nodes_degrees), \"degree\")\n",
    "\n",
    "plt.title('Mreža G s naznačenim stupnjevima')\n",
    "nx.draw_networkx(G, labels = nx.get_node_attributes(G, \"degree\"), pos = nx.spring_layout(G, seed = 7))"
   ]
  },
  {
   "cell_type": "markdown",
   "id": "2f6b8ca8",
   "metadata": {},
   "source": [
    "Stupanj čvora za usmjerene mreže"
   ]
  },
  {
   "cell_type": "code",
   "execution_count": null,
   "id": "380c6e99",
   "metadata": {},
   "outputs": [],
   "source": [
    "print(f\"Stupanj čvora 4 mreže D : {D.degree(4)}\")\n",
    "print(f\"Ulazni stupanj čvora 4 mreže D : {D.in_degree(4)}\")\n",
    "print(f\"Izlazni stupanj čvora 4 mreže D : {D.out_degree(4)}\")\n",
    "print(f\"Stupnjevi svih čvorova mreže D : {D.degree()}\")\n",
    "print(f\"Ulazni stupnjevi svih čvorova mreže D : {D.in_degree()}\")\n",
    "print(f\"Izlazni stupnjevi svih čvorova mreže D : {D.out_degree()}\")\n",
    "\n",
    "D_nodes_degrees = D.in_degree()\n",
    "nx.set_node_attributes(D, dict(D_nodes_degrees), \"in_degree\")\n",
    "\n",
    "plt.title('Mreža D s naznačenim stupnjevima')\n",
    "nx.draw_networkx(D, labels = nx.get_node_attributes(D, \"in_degree\"), pos = nx.spring_layout(D, seed = 7))"
   ]
  },
  {
   "cell_type": "markdown",
   "id": "f463af5f",
   "metadata": {},
   "source": [
    "Prosječni stupanj čvora"
   ]
  },
  {
   "cell_type": "code",
   "execution_count": null,
   "id": "66973df3",
   "metadata": {},
   "outputs": [],
   "source": [
    "total_nodes = D.number_of_nodes()\n",
    "\n",
    "total_degree = 0\n",
    "total_in_degree = 0\n",
    "total_out_degree = 0\n",
    "\n",
    "for (node, degree) in D.degree():\n",
    "    total_degree += degree\n",
    "    \n",
    "for (node, in_degree) in D.in_degree():\n",
    "    total_in_degree += in_degree\n",
    "    \n",
    "for (node, out_degree) in D.out_degree():\n",
    "    total_out_degree += out_degree\n",
    "    \n",
    "    \n",
    "print(f\"Prosječni stupanj čvora : {total_degree/total_nodes}\")\n",
    "print(f\"Prosječni ulazni stupanj čvora : {total_in_degree/total_nodes}\")\n",
    "print(f\"Prosječni izlazni stupanj čvora : {total_out_degree/total_nodes}\")"
   ]
  },
  {
   "cell_type": "markdown",
   "id": "a5ba229d",
   "metadata": {},
   "source": [
    "Mrežna reprezentacija"
   ]
  },
  {
   "cell_type": "code",
   "execution_count": null,
   "id": "7e8a87c7",
   "metadata": {},
   "outputs": [],
   "source": [
    "print(f\"Lista susjedstva za mrežu G : \\n {list(nx.generate_adjlist(G))}\")\n",
    "print(f\"Matrica susjedstva za mrežu G : \\n {nx.adjacency_matrix(G).todense()}\")\n",
    "print(f\"Lista veza za mrežu G :  \\n {list(nx.generate_edgelist(G))}\")"
   ]
  },
  {
   "cell_type": "code",
   "execution_count": null,
   "id": "983c9c5f",
   "metadata": {},
   "outputs": [],
   "source": [
    "print(f\"Lista susjedstva za mrežu D_w : \\n {list(nx.generate_adjlist(D_w))}\")\n",
    "print(f\"Matrica susjedstva za mrežu D_w : \\n {nx.adjacency_matrix(D_w).todense()}\")\n",
    "print(f\"Lista veza za mrežu D_w :  \\n {list(nx.generate_edgelist(D_w))}\")"
   ]
  },
  {
   "cell_type": "markdown",
   "id": "63825f3c",
   "metadata": {},
   "source": [
    "Spremanje i učitavanje mreža pomoću liste veza"
   ]
  },
  {
   "cell_type": "code",
   "execution_count": null,
   "id": "e6ca66f2",
   "metadata": {},
   "outputs": [],
   "source": [
    "nx.write_edgelist(D_w, 'D_w.edgelist')\n",
    "with open('D_w.edgelist') as f:\n",
    "    head =[next(f) for x in range(5)]\n",
    "print(head)\n",
    "D_w_copy = nx.read_edgelist('D_w.edgelist')"
   ]
  },
  {
   "cell_type": "markdown",
   "id": "e3d06b8e",
   "metadata": {},
   "source": [
    "# Primjeri mreža"
   ]
  },
  {
   "cell_type": "markdown",
   "id": "491155b4",
   "metadata": {},
   "source": [
    "Dodatni primjeri dostupni na: <br>\n",
    "https://snap.stanford.edu/data/ <br>\n",
    "http://vlado.fmf.uni-lj.si/pub/networks/data/"
   ]
  },
  {
   "cell_type": "markdown",
   "id": "f3cda509",
   "metadata": {},
   "source": [
    "Članova karate kluba"
   ]
  },
  {
   "cell_type": "code",
   "execution_count": null,
   "id": "1e391d1a",
   "metadata": {},
   "outputs": [],
   "source": [
    "G_karate = nx.karate_club_graph()\n",
    "print(f\"Broj čvorova : {G_karate.number_of_nodes()}\")\n",
    "print(f\"Broj rubova : {G_karate.number_of_edges()}\")"
   ]
  },
  {
   "cell_type": "code",
   "execution_count": null,
   "id": "6b174cd5",
   "metadata": {},
   "outputs": [],
   "source": [
    "plt.title('Mreža članova karate kluba')\n",
    "nx.draw_networkx(G_karate, node_size = [v * 100 for v in dict(G_karate.degree).values()], pos = nx.spring_layout(G_karate, seed = 7))"
   ]
  },
  {
   "cell_type": "markdown",
   "id": "f3780f48",
   "metadata": {},
   "source": [
    "Mreža interakcije proteina"
   ]
  },
  {
   "cell_type": "code",
   "execution_count": null,
   "id": "3f8f36d7",
   "metadata": {},
   "outputs": [],
   "source": [
    "G_protein = nx.read_edgelist('protein_interaction.edgelist')\n",
    "d = dict(G_protein.degree)\n",
    "print(f\"Broj čvorova : {G_protein.number_of_nodes()}\")\n",
    "print(f\"Broj rubova : {G_protein.number_of_edges()}\")"
   ]
  },
  {
   "cell_type": "code",
   "execution_count": null,
   "id": "58d3c394",
   "metadata": {},
   "outputs": [],
   "source": [
    "plt.title('Mreža interakcije proteina')\n",
    "nx.draw_networkx(G_protein, node_size = [v*100 for v in d.values()],pos = nx.spring_layout(G_protein, seed = 7))"
   ]
  },
  {
   "cell_type": "markdown",
   "id": "b7aae7f2",
   "metadata": {},
   "source": [
    "Peer-to-peer mreža"
   ]
  },
  {
   "cell_type": "code",
   "execution_count": null,
   "id": "ccd4e796",
   "metadata": {},
   "outputs": [],
   "source": [
    "G_network = nx.read_edgelist('p2p-Gnutella08.txt')\n",
    "print(f\"Broj čvorova : {G_network.number_of_nodes()}\")\n",
    "print(f\"Broj rubova : {G_network.number_of_edges()}\")"
   ]
  },
  {
   "cell_type": "markdown",
   "id": "8fdfcb70",
   "metadata": {},
   "source": [
    "Provjera povezanosti mreže i dobivanje dobivanje najveće komponente"
   ]
  },
  {
   "cell_type": "code",
   "execution_count": null,
   "id": "683cf19c",
   "metadata": {},
   "outputs": [],
   "source": [
    "print(f\"Mreža je povezana? {nx.is_connected(G_network)}\")\n",
    "\n",
    "G_network_components = sorted([G_network.subgraph(c).copy() for c in nx.connected_components(G_network)], key= len, reverse = True)\n",
    "\n",
    "for (index, network_components) in enumerate(G_network_components):\n",
    "    print(f\"Komponenta indexa {index} je povezana? {nx.is_connected(G_network_components[index])}\")"
   ]
  },
  {
   "cell_type": "code",
   "execution_count": null,
   "id": "ac876aca",
   "metadata": {},
   "outputs": [],
   "source": [
    "plt.figure(figsize = (30,30))\n",
    "plt.title('Velika komponenta P2P mreže')\n",
    "nx.draw_networkx(G_network_components[0], node_size = [v*100 for v in dict(G_network_components[0].degree).values()], pos = nx.spring_layout(G_network_components[0], k = 10) , alpha = 0.05, with_labels = False)"
   ]
  },
  {
   "cell_type": "code",
   "execution_count": null,
   "id": "d880faca",
   "metadata": {},
   "outputs": [],
   "source": [
    "plt.title('Druga komponenta P2P mreže')\n",
    "nx.draw_networkx(G_network_components[1], pos = nx.spring_layout(G_network_components[1], k = 0.1), node_size = 300)"
   ]
  },
  {
   "cell_type": "markdown",
   "id": "f9967056",
   "metadata": {},
   "source": [
    "Asortativnost"
   ]
  },
  {
   "cell_type": "code",
   "execution_count": null,
   "id": "7d76c991",
   "metadata": {},
   "outputs": [],
   "source": [
    "print(f\"Asortativnost karate : {nx.degree_assortativity_coefficient(G_karate)}\")\n",
    "print(f\"Asortativnost proteini : {nx.degree_assortativity_coefficient(G_protein)}\")\n",
    "print(f\"Asortativnost P2P mreža : {nx.degree_assortativity_coefficient(G_network)}\")"
   ]
  },
  {
   "cell_type": "markdown",
   "id": "44ff6b3c",
   "metadata": {},
   "source": [
    "Prosječan najkraći put"
   ]
  },
  {
   "cell_type": "code",
   "execution_count": null,
   "id": "f9feded1",
   "metadata": {
    "scrolled": true
   },
   "outputs": [],
   "source": [
    "print(f\"Prosječan najkraći put karate : {nx.average_shortest_path_length(G_karate)}\")\n",
    "print(f\"Prosječan najkraći put proteini : {nx.average_shortest_path_length(G_protein)}\")\n",
    "print(f\"Prosječan najkraći put najveće komponente P2P mreže : {nx.average_shortest_path_length(G_network_components[0])}\")"
   ]
  },
  {
   "cell_type": "markdown",
   "id": "eca07fd8",
   "metadata": {},
   "source": [
    "Dijametar"
   ]
  },
  {
   "cell_type": "code",
   "execution_count": null,
   "id": "fcee3da8",
   "metadata": {},
   "outputs": [],
   "source": [
    "print(f\"Dijametar karate : {nx.diameter(G_karate)}\")\n",
    "print(f\"Dijametar proteini : {nx.diameter(G_protein)}\")\n",
    "print(f\"Dijametar najveće komponente P2P mreže : {nx.diameter(G_network_components[0])}\")"
   ]
  },
  {
   "cell_type": "markdown",
   "id": "50325174",
   "metadata": {},
   "source": [
    "Koeficijent klasteriranja čvorova"
   ]
  },
  {
   "cell_type": "code",
   "execution_count": null,
   "id": "a112c0a3",
   "metadata": {},
   "outputs": [],
   "source": [
    "print(f\"Koeficijent klasteriranja čvorova karate : {nx.average_clustering(G_karate)}\")\n",
    "print(f\"Koeficijent klasteriranja čvorova protein : {nx.average_clustering(G_protein)}\")\n",
    "print(f\"Koeficijent klasteriranja čvorova mreža : {nx.average_clustering(G_network)}\")"
   ]
  },
  {
   "cell_type": "markdown",
   "id": "0178f642",
   "metadata": {},
   "source": [
    "Breadth first search"
   ]
  },
  {
   "cell_type": "markdown",
   "id": "ecfae442",
   "metadata": {},
   "source": [
    "Prolazak rubova BFS-om počevsi od čvora 0"
   ]
  },
  {
   "cell_type": "code",
   "execution_count": null,
   "id": "0d89ac9b",
   "metadata": {},
   "outputs": [],
   "source": [
    "for edge in nx.bfs_edges(G_karate, 0):\n",
    "    print(edge)"
   ]
  },
  {
   "cell_type": "markdown",
   "id": "cd55c343",
   "metadata": {},
   "source": [
    "Konstrukcija stabla pomoću BFS-a"
   ]
  },
  {
   "cell_type": "code",
   "execution_count": null,
   "id": "7152f4dd",
   "metadata": {},
   "outputs": [],
   "source": [
    "some = nx.bfs_tree(G_karate, 0)\n",
    "\n",
    "plt.title('Stablo konstruirano pomoću BFS-a')\n",
    "nx.draw_networkx(some)"
   ]
  },
  {
   "cell_type": "markdown",
   "id": "f9553921",
   "metadata": {},
   "source": [
    "Distribucija stupnja"
   ]
  },
  {
   "cell_type": "code",
   "execution_count": null,
   "id": "1d804f5b",
   "metadata": {},
   "outputs": [],
   "source": [
    "def degree_calc(G):\n",
    "    degrees = [val for (node, val) in G.degree()]\n",
    "    avg_degree = np.mean(degrees)\n",
    "    med_degree = np.median(degrees)\n",
    "    \n",
    "    return degrees, avg_degree, med_degree"
   ]
  },
  {
   "cell_type": "code",
   "execution_count": null,
   "id": "9f945759",
   "metadata": {},
   "outputs": [],
   "source": [
    "def degree_distribution_plot(degree_list, avg_degree, med_degree, cumulative, title):\n",
    "    plt.hist(degree_list,label='Distribucija stupnja', cumulative = cumulative)\n",
    "    plt.axvline(avg_degree,color='r',linestyle='dashed',label='Prosječni stupanj')\n",
    "    plt.axvline(med_degree,color='g',linestyle='dashed',label='Medijan stupanj')\n",
    "    plt.legend()\n",
    "    plt.ylabel('Postotak čvorova')\n",
    "    plt.xlabel('Iznos stupnja')\n",
    "    plt.title(title)    "
   ]
  },
  {
   "cell_type": "code",
   "execution_count": null,
   "id": "e899bc90",
   "metadata": {},
   "outputs": [],
   "source": [
    "d_list_karate, avg_d_karate, med_d_karate = degree_calc(G_karate)\n",
    "d_list_protein, avg_d_protein, med_d_protein = degree_calc(G_protein)\n",
    "d_list_mreza, avg_d_mreza, med_d_mreza = degree_calc(G_network)"
   ]
  },
  {
   "cell_type": "code",
   "execution_count": null,
   "id": "50a3b07f",
   "metadata": {},
   "outputs": [],
   "source": [
    "degree_distribution_plot(d_list_karate, avg_d_karate, med_d_karate, False, 'Karate')"
   ]
  },
  {
   "cell_type": "code",
   "execution_count": null,
   "id": "57eb1e4c",
   "metadata": {},
   "outputs": [],
   "source": [
    "degree_distribution_plot(d_list_protein, avg_d_protein, med_d_protein, False, 'Proteini')"
   ]
  },
  {
   "cell_type": "code",
   "execution_count": null,
   "id": "d8950480",
   "metadata": {},
   "outputs": [],
   "source": [
    "degree_distribution_plot(d_list_mreza, avg_d_mreza, med_d_mreza, False, 'P2P mreža')"
   ]
  },
  {
   "cell_type": "markdown",
   "id": "7cb03409",
   "metadata": {},
   "source": [
    "Distribucija bliskosti"
   ]
  },
  {
   "cell_type": "code",
   "execution_count": null,
   "id": "3c1bb7f0",
   "metadata": {},
   "outputs": [],
   "source": [
    "def closeness_calc(G):\n",
    "    closeness = [val for (node, val) in nx.closeness_centrality(G).items()]\n",
    "    avg_closeness = np.mean(closeness)\n",
    "    med_closeness = np.median(closeness)\n",
    "    \n",
    "    return closeness, avg_closeness, med_closeness"
   ]
  },
  {
   "cell_type": "code",
   "execution_count": null,
   "id": "c2f9e8bb",
   "metadata": {},
   "outputs": [],
   "source": [
    "def closeness_distribution_plot(closeness_list, avg_closeness, med_closeness, cumulative, title):\n",
    "    plt.hist(closeness_list,label='Distribucija bliskosti', cumulative = cumulative)\n",
    "    plt.axvline(avg_closeness, color='r' ,linestyle='dashed', label = \"Prosječna bliskost\")\n",
    "    plt.axvline(med_closeness, color='g' ,linestyle='dashed', label = \"Medijan bliskosti\")\n",
    "    plt.legend()\n",
    "    plt.ylabel('Postotak čvorova')\n",
    "    plt.xlabel('Iznost bliskosti')\n",
    "    plt.title(title)    "
   ]
  },
  {
   "cell_type": "code",
   "execution_count": null,
   "id": "dff9b7f8",
   "metadata": {},
   "outputs": [],
   "source": [
    "c_list_karate, avg_c_karate, med_c_karate = closeness_calc(G_karate)\n",
    "c_list_protein, avg_c_protein, med_c_protein = closeness_calc(G_protein)\n",
    "c_list_mreza, avg_c_mreza, med_c_mreza = closeness_calc(G_network)"
   ]
  },
  {
   "cell_type": "code",
   "execution_count": null,
   "id": "27e05c00",
   "metadata": {},
   "outputs": [],
   "source": [
    "closeness_distribution_plot(c_list_karate, avg_c_karate, med_c_karate, False, 'Karate')"
   ]
  },
  {
   "cell_type": "code",
   "execution_count": null,
   "id": "9dac66ea",
   "metadata": {},
   "outputs": [],
   "source": [
    "closeness_distribution_plot(c_list_protein, avg_c_protein, med_c_protein, False, 'Proteini')"
   ]
  },
  {
   "cell_type": "code",
   "execution_count": null,
   "id": "884559d8",
   "metadata": {},
   "outputs": [],
   "source": [
    "closeness_distribution_plot(c_list_mreza, avg_c_mreza, med_c_mreza, False, 'P2P mreža')"
   ]
  },
  {
   "cell_type": "markdown",
   "id": "be0b1589",
   "metadata": {},
   "source": [
    "Distribucija međupoloženosti"
   ]
  },
  {
   "cell_type": "code",
   "execution_count": null,
   "id": "e52e9932",
   "metadata": {},
   "outputs": [],
   "source": [
    "def calc_betweenness(G):\n",
    "    betweenness = [val for (node, val) in nx.betweenness_centrality(G).items()]\n",
    "    avg_betweenness = np.mean(betweenness)\n",
    "    med_betweenness = np.median(betweenness)\n",
    "    \n",
    "    return betweenness, avg_betweenness, med_betweenness"
   ]
  },
  {
   "cell_type": "code",
   "execution_count": null,
   "id": "449d7cb8",
   "metadata": {},
   "outputs": [],
   "source": [
    "def betweenness_distribution_plot(betweenness_list, avg_betweenness, med_betweenness, cumulative, title):\n",
    "    plt.hist(betweenness_list,label='Distribucija međupoloženosti', cumulative = cumulative)\n",
    "    plt.axvline(avg_betweenness,color='r',linestyle='dashed',label='Prosječna međupoloženost')\n",
    "    plt.axvline(med_betweenness,color='g',linestyle='dashed',label='Medijan međupoloženosti')\n",
    "    plt.legend()\n",
    "    plt.ylabel('Postotak čvorova')\n",
    "    plt.xlabel('Iznos međupoloženosti')\n",
    "    plt.title(title)      "
   ]
  },
  {
   "cell_type": "code",
   "execution_count": null,
   "id": "e798df0e",
   "metadata": {},
   "outputs": [],
   "source": [
    "b_list_karate, avg_b_karate, med_b_karate = calc_betweenness(G_karate)\n",
    "b_list_protein, avg_b_protein, med_b_protein = calc_betweenness(G_protein)\n",
    "b_list_mreza, avg_b_mreza, med_b_mreza = calc_betweenness(G_network)"
   ]
  },
  {
   "cell_type": "code",
   "execution_count": null,
   "id": "188a07c3",
   "metadata": {},
   "outputs": [],
   "source": [
    "betweenness_distribution_plot(b_list_karate, avg_b_karate, med_b_karate, False, 'Karate')"
   ]
  },
  {
   "cell_type": "code",
   "execution_count": null,
   "id": "c85db0b2",
   "metadata": {
    "is_executing": true
   },
   "outputs": [],
   "source": [
    "betweenness_distribution_plot(b_list_protein, avg_b_protein, med_b_protein, False, 'Proteini')"
   ]
  },
  {
   "cell_type": "code",
   "execution_count": null,
   "id": "7e59981f",
   "metadata": {},
   "outputs": [],
   "source": [
    "betweenness_distribution_plot(b_list_mreza, avg_b_mreza, med_b_mreza, False, 'P2P mreža')"
   ]
  },
  {
   "cell_type": "markdown",
   "id": "af8b66e1",
   "metadata": {},
   "source": [
    "Heterogenost"
   ]
  },
  {
   "cell_type": "code",
   "execution_count": null,
   "id": "0ec45a4f",
   "metadata": {},
   "outputs": [],
   "source": [
    "def calc_heterogenity(g):\n",
    "    average_squared_degree = sum([degree**2 for (node, degree) in g.degree()])/g.number_of_nodes()\n",
    "    average_degree = sum(degree for (node, degree) in g.degree())/g.number_of_nodes()\n",
    "\n",
    "    heterogenity = average_squared_degree/(average_degree**2)\n",
    "    \n",
    "    return heterogenity"
   ]
  },
  {
   "cell_type": "code",
   "execution_count": null,
   "id": "4cc6b2ff",
   "metadata": {},
   "outputs": [],
   "source": [
    "print(f\"Karate heterogenost : {calc_heterogenity(G_karate)}\")\n",
    "print(f\"Proteini heterogenost : {calc_heterogenity(G_protein)}\")\n",
    "print(f\"P2P mreža heterogenost : {calc_heterogenity(G_network)}\")"
   ]
  }
 ],
 "metadata": {
  "kernelspec": {
   "display_name": "Python 3 (ipykernel)",
   "language": "python",
   "name": "python3"
  },
  "language_info": {
   "codemirror_mode": {
    "name": "ipython",
    "version": 3
   },
   "file_extension": ".py",
   "mimetype": "text/x-python",
   "name": "python",
   "nbconvert_exporter": "python",
   "pygments_lexer": "ipython3",
   "version": "3.9.13"
  }
 },
 "nbformat": 4,
 "nbformat_minor": 5
}
